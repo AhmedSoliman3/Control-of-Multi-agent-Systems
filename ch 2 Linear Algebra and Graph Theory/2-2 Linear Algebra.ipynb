{
 "cells": [
  {
   "cell_type": "markdown",
   "metadata": {},
   "source": [
    "2.2.1 Notation \n",
    "\n",
    "For two vectors. x and. y in.n-dimensional real vector space.Rn, we define the inner \n",
    "product by.⟨x, y⟩ Δ xTy, and the Euclidean norm or.l2 norm by\n",
    "\n",
    "$$ \\|\\mathcal X \\| \\overset{\\Delta}{=} \\sqrt{ \\langle x,x \\rangle } = \\sqrt{ \\sum_{i=1}^{n} |x_i|^2}$$\n"
   ]
  },
  {
   "cell_type": "markdown",
   "metadata": {},
   "source": [
    "**2.2.2 Matrix Rank**"
   ]
  },
  {
   "cell_type": "code",
   "execution_count": 2,
   "metadata": {},
   "outputs": [
    {
     "name": "stdout",
     "output_type": "stream",
     "text": [
      "[17 39]\n"
     ]
    }
   ],
   "source": [
    "import numpy as np \n",
    "import numpy.linalg as LA \n",
    "\n",
    "x = np.array([5,6]) \n",
    "A = np.array([[1,2],[3,4]])"
   ]
  },
  {
   "cell_type": "markdown",
   "metadata": {},
   "source": [
    "the multiplication of matrix. A and vector. x is coded as A@x"
   ]
  },
  {
   "cell_type": "code",
   "execution_count": null,
   "metadata": {},
   "outputs": [],
   "source": [
    "b=A@x \n",
    "print(b) "
   ]
  },
  {
   "cell_type": "markdown",
   "metadata": {},
   "source": [
    "The norm of b is computed using the norm function in LA (numpy.linalg) as "
   ]
  },
  {
   "cell_type": "code",
   "execution_count": 3,
   "metadata": {},
   "outputs": [
    {
     "name": "stdout",
     "output_type": "stream",
     "text": [
      "42.5440947723653\n"
     ]
    }
   ],
   "source": [
    "print(LA.norm(b, ord=2)) "
   ]
  },
  {
   "cell_type": "markdown",
   "metadata": {},
   "source": [
    "The rank of A is also easily computed using the matrix_rank function in LA as "
   ]
  },
  {
   "cell_type": "code",
   "execution_count": 4,
   "metadata": {},
   "outputs": [
    {
     "name": "stdout",
     "output_type": "stream",
     "text": [
      "2\n"
     ]
    }
   ],
   "source": [
    "print(LA.matrix_rank(A)) "
   ]
  },
  {
   "cell_type": "markdown",
   "metadata": {},
   "source": [
    "Finally, let us compute the matrices in (2.18): \n",
    "\n",
    "The first line defines the following.3 × 2 matrix:\n",
    "\n",
    "$$\\mathbf{A} = \\begin{bmatrix}1 & 2\\\\3 & 4\\\\5 & 6\\end{bmatrix}$$"
   ]
  },
  {
   "cell_type": "code",
   "execution_count": 5,
   "metadata": {},
   "outputs": [],
   "source": [
    "A = np.array([[1,2],[3,4],[5,6]]) "
   ]
  },
  {
   "cell_type": "markdown",
   "metadata": {},
   "source": [
    "The first line computes .B = AT A, where A.T is the transpose of A. \n",
    "\n",
    "The second line computes the inverse of . B = AT Ausing inv function in linalg submodule of NumPy\n",
    "\n",
    "The third line gives .P = A(AT A)−1AT\n",
    "\n",
    "$$\\mathbf{P = A(A^T A)^- A^T} = \\begin{bmatrix}0.83 & 0.33 & -0.17\\\\0.33 & 0.33 & 0.33\\\\-0.17 & 0.33 & 0.83\\end{bmatrix}$$\n"
   ]
  },
  {
   "cell_type": "code",
   "execution_count": 6,
   "metadata": {},
   "outputs": [
    {
     "name": "stdout",
     "output_type": "stream",
     "text": [
      "[[ 0.83333333  0.33333333 -0.16666667]\n",
      " [ 0.33333333  0.33333333  0.33333333]\n",
      " [-0.16666667  0.33333333  0.83333333]]\n"
     ]
    }
   ],
   "source": [
    "B = A.T @ A \n",
    "C = LA.inv(B) \n",
    "P = A @ C @ A.T \n",
    "print(P)"
   ]
  },
  {
   "cell_type": "markdown",
   "metadata": {},
   "source": [
    "the line gives .Q = I − P, where eye(3) is the identity matrix in.R3\n",
    "\n",
    "$$\\mathbf{Q = I - P} = \\begin{bmatrix}0.17 & -0.33 & 0.17\\\\-0.33 & 0.67 & -0.33\\\\0.17 & -0.33 & 0.17\\end{bmatrix}$$\n"
   ]
  },
  {
   "cell_type": "code",
   "execution_count": 7,
   "metadata": {},
   "outputs": [
    {
     "name": "stdout",
     "output_type": "stream",
     "text": [
      "[[ 0.16666667 -0.33333333  0.16666667]\n",
      " [-0.33333333  0.66666667 -0.33333333]\n",
      " [ 0.16666667 -0.33333333  0.16666667]]\n"
     ]
    }
   ],
   "source": [
    "Q = np.eye(3) - P \n",
    "print(Q) "
   ]
  },
  {
   "cell_type": "markdown",
   "metadata": {},
   "source": [
    "**2.2.3 Positive and Non-negative Matrices**\n",
    "\n",
    "If the elements in. A are all positive (or non-negative), then. A is said to be positive (or non-negative)\n",
    "\n",
    "If the row sums of . A are all. 1, that is, if\n",
    "\n",
    "$$ a_{i1} + a_{i2} +···+ a_{in} = 1 $$\n",
    "    \n",
    "holds for all.i ∈ {1, 2,..., n}, then. A is said to be a stochastic matrix\n",
    "\n",
    "The following matrix is a stochastic matrix:\n",
    "\n",
    "$$\\mathbf{A_1} = \\frac{1}{4} \\begin{bmatrix}2 & 0 & 2 \\\\ 1 & 2 & 1\\\\ 0 & 2 & 2\\end{bmatrix}$$\n"
   ]
  },
  {
   "cell_type": "code",
   "execution_count": 8,
   "metadata": {},
   "outputs": [
    {
     "name": "stdout",
     "output_type": "stream",
     "text": [
      "[1. 1. 1.]\n"
     ]
    }
   ],
   "source": [
    "A1 = np.array([[2,0,2],[1,2,1],[0,2,2]])/4 \n",
    "v = np.ones(3) \n",
    "print(A1 @ v)"
   ]
  },
  {
   "cell_type": "markdown",
   "metadata": {},
   "source": [
    "A stochastic matrix .A is said to be a doubly stochastic matrix if .AT is also stochastic.\n",
    "\n",
    "the following matrix is a doubly stochastic matrix:\n",
    "\n",
    "$$\\mathbf{A_2} = \\frac{1}{4} \\begin{bmatrix}2 & 0 & 2 \\\\ 1 & 2 & 1\\\\ 1 & 2 & 1\\end{bmatrix}$$"
   ]
  },
  {
   "cell_type": "code",
   "execution_count": 9,
   "metadata": {},
   "outputs": [
    {
     "name": "stdout",
     "output_type": "stream",
     "text": [
      "[1. 1. 1.]\n",
      "[1. 1. 1.]\n"
     ]
    }
   ],
   "source": [
    "A2 = np.array([[2,0,2],[1,2,1],[1,2,1]])/4 \n",
    "v = np.ones(3) \n",
    "print(A2 @ v) \n",
    "print(A2.T @ v) "
   ]
  }
 ],
 "metadata": {
  "kernelspec": {
   "display_name": "Python 3",
   "language": "python",
   "name": "python3"
  },
  "language_info": {
   "codemirror_mode": {
    "name": "ipython",
    "version": 3
   },
   "file_extension": ".py",
   "mimetype": "text/x-python",
   "name": "python",
   "nbconvert_exporter": "python",
   "pygments_lexer": "ipython3",
   "version": "3.9.0"
  }
 },
 "nbformat": 4,
 "nbformat_minor": 2
}
