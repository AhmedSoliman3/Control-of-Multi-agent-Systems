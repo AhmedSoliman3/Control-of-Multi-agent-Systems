{
 "cells": [
  {
   "cell_type": "markdown",
   "metadata": {},
   "source": [
    "### **2.2.4 Eigenvalues**\n",
    "\n",
    "\n",
    "### What are Eigenvalues?\n",
    "\n",
    "Eigenvalues are special numbers associated with a matrix. In the context of multi-agent systems, they help us understand the behavior of the system, especially in terms of stability and dynamics.\n",
    "\n",
    "### Why are Eigenvalues Important?\n",
    "\n",
    "1. **Stability**: Eigenvalues can tell us if the system is stable. If all eigenvalues have negative real parts, the system is stable.\n",
    "2. **Dynamics**: They help describe how the system evolves over time. For example, they can indicate how fast agents in a multi-agent system reach consensus.\n",
    "\n",
    "### Simple Example\n",
    "\n",
    "Imagine a group of robots trying to align their directions. We can represent their interactions with a matrix \\( A \\). The eigenvalues of \\( A \\) will tell us how the directions of the robots change over time.\n",
    "\n",
    "### Step-by-Step Example\n",
    "\n",
    "1. **Matrix Representation**: Suppose we have a matrix \\( A \\):\n",
    "   $$\n",
    "   A = \\begin{pmatrix}\n",
    "   2 & 1 \\\\\n",
    "   1 & 2\n",
    "   \\end{pmatrix}\n",
    "   $$\n",
    "\n",
    "2. **Characteristic Equation**: To find the eigenvalues, we solve the characteristic equation:\n",
    "   $$\n",
    "   \\text{det}(A - \\lambda I) = 0\n",
    "   $$\n",
    "   For our matrix \\( A \\):\n",
    "   $$\n",
    "   \\text{det}\\begin{pmatrix}\n",
    "   2 - \\lambda & 1 \\\\\n",
    "   1 & 2 - \\lambda\n",
    "   \\end{pmatrix} = 0\n",
    "   $$\n",
    "\n",
    "3. **Solve for Eigenvalues**: This simplifies to:\n",
    "   $$\n",
    "   (2 - \\lambda)^2 - 1 = 0 \\\\\n",
    "   \\lambda^2 - 4\\lambda + 3 = 0 \\\\\n",
    "   (\\lambda - 3)(\\lambda - 1) = 0\n",
    "   $$\n",
    "   So, the eigenvalues are $( \\lambda_1 = 3 ) and ( \\lambda_2 = 1 )$ .\n",
    "\n",
    "### Interpretation\n",
    "\n",
    "- **Eigenvalue \\( $ \\lambda_1 = 3 $ \\)**: Indicates a faster change in the system.\n",
    "- **Eigenvalue \\( $ \\lambda_2 = 1 $ \\)**: Indicates a slower change.\n",
    "\n",
    "In a multi-agent system, these eigenvalues help us understand how quickly the agents will align their directions.\n"
   ]
  },
  {
   "cell_type": "code",
   "execution_count": 1,
   "metadata": {},
   "outputs": [
    {
     "name": "stdout",
     "output_type": "stream",
     "text": [
      "[1. 1. 1.]\n",
      "[[ 1.00000000e+00  0.00000000e+00  0.00000000e+00]\n",
      " [ 0.00000000e+00  1.00000000e+00 -1.00000000e+00]\n",
      " [ 0.00000000e+00  0.00000000e+00  2.22044605e-16]]\n"
     ]
    }
   ],
   "source": [
    "import numpy as np \n",
    "import numpy.linalg as LA \n",
    "A = np.array([[1,0,0],[0,1,1],[0,0,1]]) \n",
    "s, V = LA.eig(A) \n",
    "print(s) \n",
    "print(V) "
   ]
  },
  {
   "cell_type": "markdown",
   "metadata": {},
   "source": [
    "The first row vector, which is s, implies that. A has the eigenvalue 1 with algebraic \n",
    "multiplicity 3. Then, the first and second column vectors in V are linearly independent, \n",
    "but the third column vector is dependent, ignoring.2.22 × 10−16, on the second one. It \n",
    "follows that there are two linearly independent eigenvectors, and hence the geometric \n",
    "multiplicity is 2"
   ]
  }
 ],
 "metadata": {
  "kernelspec": {
   "display_name": "Python 3",
   "language": "python",
   "name": "python3"
  },
  "language_info": {
   "codemirror_mode": {
    "name": "ipython",
    "version": 3
   },
   "file_extension": ".py",
   "mimetype": "text/x-python",
   "name": "python",
   "nbconvert_exporter": "python",
   "pygments_lexer": "ipython3",
   "version": "3.9.0"
  }
 },
 "nbformat": 4,
 "nbformat_minor": 2
}
