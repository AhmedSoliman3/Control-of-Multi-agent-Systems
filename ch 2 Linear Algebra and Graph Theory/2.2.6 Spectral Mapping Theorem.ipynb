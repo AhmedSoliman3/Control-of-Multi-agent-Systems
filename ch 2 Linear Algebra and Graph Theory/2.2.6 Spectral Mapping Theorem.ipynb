{
 "cells": [
  {
   "cell_type": "markdown",
   "metadata": {},
   "source": [
    "\n",
    "### 2.2.6 Spectral Mapping Theorem\n",
    "\n",
    "The Spectral Mapping Theorem is a fundamental result in linear algebra and functional analysis. It relates the spectrum (set of eigenvalues) of a matrix or linear operator to the spectrum of a function applied to that matrix or operator.\n",
    "\n",
    "#### Statement of the Theorem\n",
    "\n",
    "If \\( A \\) is a square matrix and \\( f \\) is a complex-valued function that is analytic on the spectrum of \\( A \\), then the spectrum of \\( f(A) \\) is given by:\n",
    "$$ \\sigma(f(A)) = \\{ f(\\lambda) : \\lambda \\in \\sigma(A) \\} $$\n",
    "where \\($ \\sigma(A)$ \\) denotes the spectrum of \\( A \\).\n",
    "\n",
    "#### Intuition\n",
    "\n",
    "The theorem essentially tells us that if you know the eigenvalues of a matrix \\( A \\), you can determine the eigenvalues of \\( f(A) \\) by simply applying the function \\( f \\) to each eigenvalue of \\( A \\).\n",
    "\n",
    "#### Example\n",
    "\n",
    "Let's consider a simple example to illustrate this:\n",
    "\n",
    "1. **Matrix \\( A \\)**:\n",
    "   $\n",
    "   A = \\begin{pmatrix}\n",
    "   2 & 1 \\\\\n",
    "   0 & 3\n",
    "   \\end{pmatrix}\n",
    "   $\n",
    "   The eigenvalues of $ ( A ) are ( \\lambda_1 = 2 ) and ( \\lambda_2 = 3 )$.\n",
    "\n",
    "2. **Function \\( f(x) = x^2 \\)**:\n",
    "   We want to find the eigenvalues of \\( $ f(A) = A^2 $\\).\n",
    "\n",
    "3. **Applying the Theorem**:\n",
    "   According to the Spectral Mapping Theorem, the eigenvalues of \\($ A^2 $\\) are \\( $f(\\lambda_1) = 2^2 = 4 $\\) and \\($ f(\\lambda_2) = 3^2 = 9 $ \\).\n",
    "\n",
    "4. **Verification**:\n",
    "   Let's compute \\( $ A^2 $ \\) to verify:\n",
    "   $\n",
    "   A^2 = \\begin{pmatrix}\n",
    "   2 & 1 \\\\\n",
    "   0 & 3\n",
    "   \\end{pmatrix} \\begin{pmatrix}\n",
    "   2 & 1 \\\\\n",
    "   0 & 3\n",
    "   \\end{pmatrix} = \\begin{pmatrix}\n",
    "   4 & 5 \\\\\n",
    "   0 & 9\n",
    "   \\end{pmatrix}\n",
    "   $\n",
    "   The eigenvalues of \\( $ A^2 $ \\) are indeed 4 and 9, confirming the theorem.\n",
    "\n",
    "### Application in Multi-Agent Systems\n",
    "\n",
    "In the context of multi-agent systems, the Spectral Mapping Theorem is useful for analyzing the stability and dynamics of the system. For example, if you have a network of agents represented by a graph, the eigenvalues of the adjacency matrix or Laplacian matrix can provide insights into the system's behavior. Applying functions to these matrices (like exponentiation for continuous-time systems) and using the Spectral Mapping Theorem helps in understanding how the system evolves over time.\n",
    "\n",
    "Example 2.5 To check Theorem 2.6, let us consider the following matrix: \n",
    "\n",
    "   $$\n",
    "   A = \\begin{pmatrix}\n",
    "   0 & -1 & -1 \\\\\n",
    "   -1 & 1 & 0 \\\\\n",
    "   -1 & 0 & 1 \\\\\n",
    "   \\end{pmatrix}\n",
    "   $$\n",
    "\n",
    "   The eigenvalues are obtained by \n",
    "\n"
   ]
  },
  {
   "cell_type": "code",
   "execution_count": null,
   "metadata": {},
   "outputs": [
    {
     "name": "stdout",
     "output_type": "stream",
     "text": [
      "[-1.  2.  1.]\n"
     ]
    }
   ],
   "source": [
    "import numpy as np \n",
    "import numpy.linalg as LA \n",
    "A = np.array([[0,-1,-1],[-1,1,0],[-1,0,1]]) \n",
    "s, V = LA.eig(A) \n",
    "print(s) \n"
   ]
  },
  {
   "cell_type": "markdown",
   "metadata": {},
   "source": [
    "From the result, the eigenvalues are .−1, . 2, and . 1. Then, let us consider another \n",
    "matrix \n",
    "$$ B = A^2 + A + I $$\n",
    "The eigenvalues of. B are obtained from Theorem 2.6 as \n",
    "$$ (−1)^2 + (−1) + 1 = 1 \\space ,\\space 2^2 + 2 + 1 = 7 \\space ,\\space 1^2 + 1 + 1 = 3 $$\n",
    "To confirm this, we run the following code:"
   ]
  },
  {
   "cell_type": "code",
   "execution_count": 3,
   "metadata": {},
   "outputs": [
    {
     "name": "stdout",
     "output_type": "stream",
     "text": [
      "[[ 3. -2. -2.]\n",
      " [-2.  4.  1.]\n",
      " [-2.  1.  4.]]\n",
      "[1. 7. 3.]\n"
     ]
    }
   ],
   "source": [
    "B=A@A+A+ np.eye(3) \n",
    "print(B)\n",
    "s2, V2 = LA.eig(B) \n",
    "print(s2)"
   ]
  }
 ],
 "metadata": {
  "kernelspec": {
   "display_name": "Python 3",
   "language": "python",
   "name": "python3"
  },
  "language_info": {
   "codemirror_mode": {
    "name": "ipython",
    "version": 3
   },
   "file_extension": ".py",
   "mimetype": "text/x-python",
   "name": "python",
   "nbconvert_exporter": "python",
   "pygments_lexer": "ipython3",
   "version": "3.9.7"
  }
 },
 "nbformat": 4,
 "nbformat_minor": 2
}
