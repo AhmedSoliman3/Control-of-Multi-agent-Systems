{
 "cells": [
  {
   "cell_type": "markdown",
   "metadata": {},
   "source": [
    "### **Consensus Control in Multi-Agent Systems**\n",
    "\n",
    "#### **1. Introduction to Consensus Control** \n",
    "\n",
    "Consensus control is a fundamental concept in the coordination of multi-agent systems. It involves designing control laws that ensure all agents in a network reach an agreement on certain quantities of interest. This agreement is crucial for tasks such as formation control, distributed sensing, and cooperative robotics.\n",
    "\n",
    "#### **2. Mathematical Formulation**\n",
    "\n",
    "Consider a multi-agent system with $ n $ agents. The state of agent $ i $ at time $ t $ is denoted by $ x_i(t) $. The goal is to design control inputs $ u_i(t) $ such that all agents' states converge to a common value $ x^* $.\n",
    "\n",
    "**Continuous-Time Systems**:\n",
    "The dynamics of each agent can be described by:\n",
    "$$\n",
    "\\dot{x}_i(t) = u_i(t)\n",
    "$$\n",
    "The control input $ u_i(t) $ is typically designed based on the relative states of neighboring agents:\n",
    "$$\n",
    "u_i(t) = -\\sum_{j \\in \\mathcal{N}_i} a_{ij} (x_i(t) - x_j(t))\n",
    "$$\n",
    "where $ \\mathcal{N}_i $ is the set of neighbors of agent $ i $, and $ a_{ij} $ are the weights of the communication links.\n",
    "\n",
    "**Example**:\n",
    "Consider three agents with initial states $ x_1(0) = 1 $, $ x_2(0) = 3 $, and $ x_3(0) = 5 $. If they communicate with equal weights, the consensus value $ x^* $ will be the average of the initial states:\n",
    "$$\n",
    "x^* = \\frac{1 + 3 + 5}{3} = 3\n",
    "$$\n",
    "\n",
    "**Discrete-Time Systems**:\n",
    "For discrete-time systems, the update rule is:\n",
    "$$\n",
    "x_i(k+1) = x_i(k) + \\sum_{j \\in \\mathcal{N}_i} b_{ij} (x_j(k) - x_i(k))\n",
    "$$\n",
    "where $ x_i(k) $ is the state of agent $ i $ at time step $ k $, and $ b_{ij} $ are the weights of the communication links.\n",
    "\n",
    "**Example**:\n",
    "Consider a network of four sensors with initial measurements $ x_1(0) = 2 $, $ x_2(0) = 4 $, $ x_3(0) = 6 $, and $ x_4(0) = 8 $. If they update their measurements based on their neighbors, the consensus value $ x^* $ will be the average of the initial measurements:\n",
    "$$\n",
    "x^* = \\frac{2 + 4 + 6 + 8}{4} = 5\n",
    "$$\n",
    "\n"
   ]
  }
 ],
 "metadata": {
  "language_info": {
   "name": "python"
  }
 },
 "nbformat": 4,
 "nbformat_minor": 2
}
